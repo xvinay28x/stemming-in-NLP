{
 "cells": [
  {
   "cell_type": "code",
   "execution_count": 32,
   "id": "8be23dfb",
   "metadata": {},
   "outputs": [],
   "source": [
    "from nltk.stem import PorterStemmer"
   ]
  },
  {
   "cell_type": "code",
   "execution_count": 33,
   "id": "891a7729",
   "metadata": {},
   "outputs": [],
   "source": [
    "lemmatizer = PorterStemmer()"
   ]
  },
  {
   "cell_type": "code",
   "execution_count": 61,
   "id": "524502b6",
   "metadata": {},
   "outputs": [],
   "source": [
    "words = [\"python\",\"pythoner\",\"pythoned\",\"pythones\",\"cats\",\"dogs\",\"rocked\",\"very\",\"low\",\"heights\",\"backed\",\"dancing\"]"
   ]
  },
  {
   "cell_type": "code",
   "execution_count": 62,
   "id": "f11c0463",
   "metadata": {},
   "outputs": [
    {
     "name": "stdout",
     "output_type": "stream",
     "text": [
      "python\n",
      "python\n",
      "python\n",
      "python\n",
      "cat\n",
      "dog\n",
      "rock\n",
      "veri\n",
      "low\n",
      "height\n",
      "back\n",
      "danc\n"
     ]
    }
   ],
   "source": [
    "for i in words:\n",
    "    print(lemmatizer.stem(i))"
   ]
  },
  {
   "cell_type": "code",
   "execution_count": null,
   "id": "4b1eb894",
   "metadata": {},
   "outputs": [],
   "source": []
  }
 ],
 "metadata": {
  "kernelspec": {
   "display_name": "Python 3",
   "language": "python",
   "name": "python3"
  },
  "language_info": {
   "codemirror_mode": {
    "name": "ipython",
    "version": 3
   },
   "file_extension": ".py",
   "mimetype": "text/x-python",
   "name": "python",
   "nbconvert_exporter": "python",
   "pygments_lexer": "ipython3",
   "version": "3.8.8"
  }
 },
 "nbformat": 4,
 "nbformat_minor": 5
}

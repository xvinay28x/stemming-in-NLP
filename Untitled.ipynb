{
 "cells": [
  {
   "cell_type": "code",
   "execution_count": 1,
   "id": "ad1f5709",
   "metadata": {},
   "outputs": [],
   "source": [
    "from nltk.stem import PorterStemmer"
   ]
  },
  {
   "cell_type": "code",
   "execution_count": 2,
   "id": "e7f46734",
   "metadata": {},
   "outputs": [],
   "source": [
    "stemmer = PorterStemmer()"
   ]
  },
  {
   "cell_type": "code",
   "execution_count": 3,
   "id": "174e690a",
   "metadata": {},
   "outputs": [],
   "source": [
    "words = [\"python\",\"pythoner\",\"pythoned\",\"pythones\",\"cats\",\"dogs\",\"rocked\",\"very\",\"low\",\"heights\",\"backed\",\"dancing\"]"
   ]
  },
  {
   "cell_type": "code",
   "execution_count": 4,
   "id": "ebeace0a",
   "metadata": {},
   "outputs": [
    {
     "name": "stdout",
     "output_type": "stream",
     "text": [
      "python\n",
      "python\n",
      "python\n",
      "python\n",
      "cat\n",
      "dog\n",
      "rock\n",
      "veri\n",
      "low\n",
      "height\n",
      "back\n",
      "danc\n"
     ]
    }
   ],
   "source": [
    "for i in words:\n",
    "    print(stemmer.stem(i))"
   ]
  },
  {
   "cell_type": "code",
   "execution_count": null,
   "id": "57e4a5ac",
   "metadata": {},
   "outputs": [],
   "source": []
  }
 ],
 "metadata": {
  "kernelspec": {
   "display_name": "Python 3",
   "language": "python",
   "name": "python3"
  },
  "language_info": {
   "codemirror_mode": {
    "name": "ipython",
    "version": 3
   },
   "file_extension": ".py",
   "mimetype": "text/x-python",
   "name": "python",
   "nbconvert_exporter": "python",
   "pygments_lexer": "ipython3",
   "version": "3.8.8"
  }
 },
 "nbformat": 4,
 "nbformat_minor": 5
}

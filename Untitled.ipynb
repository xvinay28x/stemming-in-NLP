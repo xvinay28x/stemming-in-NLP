{
 "cells": [
  {
   "cell_type": "code",
   "execution_count": 32,
   "id": "2c2254e9",
   "metadata": {},
   "outputs": [],
   "source": [
    "from nltk.stem import PorterStemmer"
   ]
  },
  {
   "cell_type": "code",
   "execution_count": 33,
   "id": "3503845b",
   "metadata": {},
   "outputs": [],
   "source": [
    "lemmatizer = PorterStemmer()"
   ]
  },
  {
   "cell_type": "code",
   "execution_count": 36,
   "id": "3c0f9753",
   "metadata": {},
   "outputs": [],
   "source": [
    "words = [\"python\",\"pythoner\",\"pythoned\",\"pythones\",]"
   ]
  },
  {
   "cell_type": "code",
   "execution_count": 37,
   "id": "b39d623c",
   "metadata": {},
   "outputs": [
    {
     "name": "stdout",
     "output_type": "stream",
     "text": [
      "python\n",
      "python\n",
      "python\n",
      "python\n"
     ]
    }
   ],
   "source": [
    "for i in words:\n",
    "    print(lemmatizer.stem(i))"
   ]
  },
  {
   "cell_type": "code",
   "execution_count": null,
   "id": "b32a11ee",
   "metadata": {},
   "outputs": [],
   "source": []
  }
 ],
 "metadata": {
  "kernelspec": {
   "display_name": "Python 3",
   "language": "python",
   "name": "python3"
  },
  "language_info": {
   "codemirror_mode": {
    "name": "ipython",
    "version": 3
   },
   "file_extension": ".py",
   "mimetype": "text/x-python",
   "name": "python",
   "nbconvert_exporter": "python",
   "pygments_lexer": "ipython3",
   "version": "3.8.8"
  }
 },
 "nbformat": 4,
 "nbformat_minor": 5
}
